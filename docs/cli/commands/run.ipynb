{
 "nbformat": 4,
 "nbformat_minor": 2,
 "metadata": {
  "language_info": {
   "name": "python",
   "codemirror_mode": {
    "name": "ipython",
    "version": 3
   },
   "version": "3.7.6-final"
  },
  "orig_nbformat": 2,
  "file_extension": ".py",
  "mimetype": "text/x-python",
  "name": "python",
  "npconvert_exporter": "python",
  "pygments_lexer": "ipython3",
  "version": 3,
  "kernelspec": {
   "name": "python37664bitdjangoclitepipenvffd73afb54ae4cb6b9b8abe669a2360d",
   "display_name": "Python 3.7.6 64-bit ('django-clite': pipenv)"
  }
 },
 "cells": [
  {
   "cell_type": "markdown",
   "execution_count": null,
   "metadata": {},
   "outputs": [],
   "source": [
    "# Run 🏃‍♀️\n",
    "### The runner is accessible through the `run` command (abbreviated `r`)."
   ]
  },
  {
   "cell_type": "code",
   "execution_count": 1,
   "metadata": {},
   "outputs": [
    {
     "name": "stdout",
     "output_type": "stream",
     "text": "Usage: D run [OPTIONS] COMMAND [ARGS]...\n\n  Run maintenance, development, and deployment scripts.\n\nOptions:\n  --help  Show this message and exit.\n\nCommands:\n  docker      Run Docker-related options for your project.\n  export-env  Export environment variables.\n  migrations  Run database migrations.\n  server      Runs the development server.\n"
    }
   ],
   "source": [
    "! D run --help"
   ]
  },
  {
   "cell_type": "markdown",
   "execution_count": 2,
   "metadata": {},
   "outputs": [],
   "source": [
    "## Migrations\n",
    "The CLI runner has a command that wraps Django's default `makemigrations` and `migrate` commands into a single `migrations` command. It combines both commands and runs them sequentially, as you may already do in your projects. It's just a neat little convenience command. Moreover, you can also specify which app you'd like to run migrations for, with the `--app` argument.\n",
    "\n",
    "Something neat about this command, as well as other commands that make use of your project's `manage.py` or `settings.py` modules is that you can run them from within your project's directory or inside an app directory, and the CLI will attempt to locate where your management module from the context of the working directory."
   ]
  },
  {
   "cell_type": "markdown",
   "execution_count": null,
   "metadata": {},
   "outputs": [],
   "source": [
    "Here's an example of attempting to run migrations for an app not added to your INSTALLED_APPS:"
   ]
  },
  {
   "cell_type": "code",
   "execution_count": 6,
   "metadata": {},
   "outputs": [
    {
     "name": "stdout",
     "output_type": "stream",
     "text": "\u001B[31;1mNo installed app with label 'music'.\n\u001B[0m\u001B[31;1mCommandError: No installed app with label 'music'.\n\u001B[0m"
    }
   ],
   "source": [
    "! D run migrations --app=music"
   ]
  },
  {
   "cell_type": "markdown",
   "execution_count": null,
   "metadata": {},
   "outputs": [],
   "source": [
    "Here's an example of the same command, but now with `music` added to your project's INSTALLED_APPS:"
   ]
  },
  {
   "cell_type": "code",
   "execution_count": 7,
   "metadata": {},
   "outputs": [
    {
     "name": "stdout",
     "output_type": "stream",
     "text": "\u001B[36;1mMigrations for 'music':\u001B[0m\n  \u001B[1mwebsite/music/migrations/0001_initial.py\u001B[0m\n    - Create model Album\n    - Create index music_album_created_6bd801_idx on field(s) created_at of model album\n\u001B[36;1mOperations to perform:\u001B[0m\n\u001B[1m  Apply all migrations: \u001B[0mmusic\n\u001B[36;1mRunning migrations:\u001B[0m\n  Applying music.0001_initial...\u001B[32;1m OK\u001B[0m\n"
    }
   ],
   "source": [
    "! D run migrations --app=music"
   ]
  },
  {
   "cell_type": "markdown",
   "execution_count": null,
   "metadata": {},
   "outputs": [],
   "source": [
    "Explore the help for more info on what the command can do and how you can incorporate it in your workflow. Take it for a spin and let us know how it works for you!"
   ]
  },
  {
   "cell_type": "code",
   "execution_count": 5,
   "metadata": {},
   "outputs": [
    {
     "name": "stdout",
     "output_type": "stream",
     "text": "Usage: D run migrations [OPTIONS] [OPTIONS]...\n\n  Run database migrations.\n\n  This combines both `makemigrations` and `migrate` commands into one. For\n  example:\n\n      D run migrations blog\n\n  will accomplish the same as the following two commands:\n\n      ./manage.py makemigrations blog && \\\n      ./manage.py migrate blog\n\n  Another thing this command seeks to accomplish is to bypass the need to\n  navigate to the top of the directory in order to have access to the\n  `manage.py` module. As long as the command is ran from within one of the\n  following scopes, the command will work as intended:\n\n      /project\n      /project/project\n      /project/project/app\n\nOptions:\n  -a, --app TEXT\n  --help          Show this message and exit.\n"
    }
   ],
   "source": [
    "! D run migrations --help"
   ]
  },
  {
   "cell_type": "markdown",
   "execution_count": 6,
   "metadata": {},
   "outputs": [],
   "source": [
    "## Exporting Environment Variables"
   ]
  },
  {
   "cell_type": "code",
   "execution_count": 7,
   "metadata": {},
   "outputs": [
    {
     "name": "stdout",
     "output_type": "stream",
     "text": "Usage: D run export-env [OPTIONS]\n\n  Export environment variables. Use this command to export environment\n  variables to an example file or a dokku config file. For example\n  environment file, all values are striped out, only keys are exported.\n\n  In .env-dokku file:\n  dokku config:set --no-restart PROJECT_NAME VARIABLE1=value1\n  dokku config:set --no-restart PROJECT_NAME VARIABLE2=value2\n\n  In .env-example file:\n  VARIABLE1=\n  VARIABLE2=\n\n  The CLI assumes that your environment file lives next to the management\n  file (manage.py). If that is not the case for your project, your can\n  specify the path for the environment file (or just its name if in current\n  directory) by passing the -f, --filepath option:\n\n  D run export-env -f [filepath]\n\nOptions:\n  -f, --filepath PATH  Path to environment file.\n  --no-dokku           Skip dokku export.\n  --no-example         Skip example export.\n  --help               Show this message and exit.\n"
    }
   ],
   "source": [
    "! D run export-env --help"
   ]
  },
  {
   "cell_type": "markdown",
   "execution_count": null,
   "metadata": {},
   "outputs": [],
   "source": [
    "## Docker Runner Options\n",
    "The CLI can create ready-to-use `Dockerfile` and `docker-compose` files which you can use to run your application within [docker](https://docs.docker.com/).\n",
    "\n",
    "You can also `run start` to start your application inside a docker container. Explore the CLI for other options regarding this."
   ]
  },
  {
   "cell_type": "code",
   "execution_count": 4,
   "metadata": {},
   "outputs": [
    {
     "name": "stdout",
     "output_type": "stream",
     "text": "Usage: D run docker [OPTIONS] COMMAND [ARGS]...\n\n  Run Docker-related options for your project.\n\nOptions:\n  --create-config  Create Dockerfile and docker-compose.yml\n  --verbose        Run in verbose mode.\n  --help           Show this message and exit.\n\nCommands:\n  build              Build Docker container for this project.\n  create-compose     Creates a docker-compose file for this project.\n  create-dockerfile  Creates a Dockerfile for this project.\n  start              Start Docker container for this project.\n"
    }
   ],
   "source": [
    "! D run docker --help"
   ]
  }
 ]
}