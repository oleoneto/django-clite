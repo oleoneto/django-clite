{
 "cells": [
  {
   "cell_type": "markdown",
   "metadata": {},
   "source": [
    "# Destroy ❌\n",
    "### The destroyer is accessible through the `destroy` command (abbreviated `d`)."
   ]
  },
  {
   "cell_type": "code",
   "execution_count": 1,
   "metadata": {},
   "outputs": [
    {
     "name": "stdout",
     "output_type": "stream",
     "text": [
      "Usage: django-clite destroy [OPTIONS] COMMAND [ARGS]...\n",
      "\n",
      "  Destroy application resources.\n",
      "\n",
      "Options:\n",
      "  --help  Show this message and exit.\n",
      "\n",
      "Commands:\n",
      "  admin         Destroy an admin model.\n",
      "  admin-inline  Destroy an inline admin model.\n",
      "  command       Destroy an application command.\n",
      "  fixture       Destroy model fixtures.\n",
      "  form          Destroy a form.\n",
      "  manager       Destroy a model manager.\n",
      "  model         Destroy a model.\n",
      "  serializer    Destroy a serializer for a given model.\n",
      "  signal        Destroy a signal.\n",
      "  tag           Generate a template tag.\n",
      "  template      Destroy an html template.\n",
      "  test          Destroy TestCases.\n",
      "  validator     Destroy a validator.\n",
      "  view          Destroy a view function or class.\n",
      "  viewset       Destroy a viewset for a serializable model.\n"
     ]
    }
   ],
   "source": [
    "! django-clite destroy --help"
   ]
  },
  {
   "cell_type": "markdown",
   "metadata": {},
   "source": [
    "## Destroying Models"
   ]
  },
  {
   "cell_type": "code",
   "execution_count": 2,
   "metadata": {},
   "outputs": [
    {
     "name": "stdout",
     "output_type": "stream",
     "text": [
      "Usage: django-clite destroy model [OPTIONS] NAME\n",
      "\n",
      "  Destroy a model.\n",
      "\n",
      "Options:\n",
      "  --api          Destroy only related api resources\n",
      "  --full         Destroy all related resources\n",
      "  --admin        Destroy admin model\n",
      "  --fixtures     Destroy model fixture\n",
      "  --form         Destroy model form\n",
      "  --serializers  Destroy serializers\n",
      "  --templates    Destroy templates\n",
      "  --tests        Destroy tests\n",
      "  --views        Destroy views\n",
      "  --viewsets     Destroy viewsets\n",
      "  --help         Show this message and exit.\n"
     ]
    }
   ],
   "source": [
    "! django-clite destroy model --help"
   ]
  },
  {
   "cell_type": "markdown",
   "metadata": {},
   "source": [
    "## Destroying Resources"
   ]
  },
  {
   "cell_type": "markdown",
   "metadata": {},
   "source": [
    "Suppose you have a resource (consisting of admin, model, serializer, view, viewset...), you can delete all related files by running the `destroy resource` command.\n",
    "\n",
    "The following example shows how to destroy a resource called `Article`, which we'll create with the `generator`."
   ]
  },
  {
   "cell_type": "code",
   "execution_count": null,
   "metadata": {},
   "outputs": [],
   "source": [
    "! django-clite destroy resource article"
   ]
  }
 ],
 "metadata": {
  "file_extension": ".py",
  "kernelspec": {
   "display_name": ".venv",
   "language": "python",
   "name": "python3"
  },
  "language_info": {
   "codemirror_mode": {
    "name": "ipython",
    "version": 3
   },
   "file_extension": ".py",
   "mimetype": "text/x-python",
   "name": "python",
   "nbconvert_exporter": "python",
   "pygments_lexer": "ipython3",
   "version": "3.11.5"
  },
  "mimetype": "text/x-python",
  "name": "python",
  "npconvert_exporter": "python",
  "orig_nbformat": 2,
  "pygments_lexer": "ipython3",
  "version": 3
 },
 "nbformat": 4,
 "nbformat_minor": 2
}
