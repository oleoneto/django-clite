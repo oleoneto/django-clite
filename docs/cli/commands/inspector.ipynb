{
 "cells": [
  {
   "cell_type": "markdown",
   "metadata": {},
   "source": [
    "# Inspector 🔬\n",
    "### The inspector is accessible through the `show` command (abbreviated `s`)."
   ]
  },
  {
   "cell_type": "code",
   "execution_count": 11,
   "metadata": {
    "scrolled": true,
    "pycharm": {
     "is_executing": false
    }
   },
   "outputs": [
    {
     "name": "stdout",
     "text": [
      "Usage: D show [OPTIONS]\r\n",
      "              [apps|admin|fixtures|forms|managers|models|serializers|viewsets]\r\n",
      "\r\n",
      "  Inspect your Django project.\r\n",
      "\r\n",
      "Options:\r\n",
      "  --paths      Show app paths.\r\n",
      "  --no-stdout  Do not print to stdout.\r\n",
      "  --help       Show this message and exit.\r\n"
     ],
     "output_type": "stream"
    }
   ],
   "source": [
    "! D show --help"
   ]
  },
  {
   "cell_type": "markdown",
   "metadata": {},
   "source": [
    "## Apps\n",
    "Inspect apps in your current project"
   ]
  },
  {
   "cell_type": "code",
   "execution_count": 8,
   "metadata": {
    "pycharm": {
     "is_executing": false
    }
   },
   "outputs": [
    {
     "name": "stdout",
     "text": [
      "\u001b[1mblog\u001b[0m\r\n",
      "\u001b[1mmusic\u001b[0m\r\n"
     ],
     "output_type": "stream"
    }
   ],
   "source": [
    "! D show apps"
   ]
  },
  {
   "cell_type": "code",
   "execution_count": 21,
   "metadata": {},
   "outputs": [
    {
     "name": "stdout",
     "output_type": "stream",
     "text": [
      "Usage: D inspect models [OPTIONS]\r\n",
      "\r\n",
      "  Show your project models.\r\n",
      "\r\n",
      "Options:\r\n",
      "  --paths      Show app paths.\r\n",
      "  --no-stdout  Do not print to stdout.\r\n",
      "  --help       Show this message and exit.\r\n"
     ]
    }
   ],
   "source": [
    "## Models\n",
    "Show models, managers, serializers, viewsets, forms, admin models, and fixtures across all different apps in your project. This command will try to discover all models located within the models package, even if multiple models are located within the same python module."
   ]
  },
  {
   "cell_type": "code",
   "execution_count": 15,
   "metadata": {
    "pycharm": {
     "is_executing": false,
     "name": "#%%\n"
    }
   },
   "outputs": [
    {
     "name": "stdout",
     "text": [
      "\u001b[0m\r\n",
      "\u001b[1mmusic\u001b[0m\r\n",
      "\u001b[22m    Album               \u001b[0m\r\n"
     ],
     "output_type": "stream"
    }
   ],
   "source": [
    "! D show models"
   ]
  },
  {
   "cell_type": "code",
   "execution_count": 19,
   "outputs": [
    {
     "name": "stdout",
     "text": [
      "\u001b[0m\r\n",
      "\u001b[1mmusic\u001b[0m\r\n",
      "\u001b[22m    AlbumSerializer     \u001b[0m\r\n"
     ],
     "output_type": "stream"
    }
   ],
   "source": [
    "! D show serializers"
   ],
   "metadata": {
    "collapsed": false,
    "pycharm": {
     "name": "#%%\n",
     "is_executing": false
    }
   }
  },
  {
   "cell_type": "code",
   "execution_count": null,
   "outputs": [],
   "source": [
    "\n"
   ],
   "metadata": {
    "collapsed": false,
    "pycharm": {
     "name": "#%%\n"
    }
   }
  },
  {
   "cell_type": "code",
   "execution_count": null,
   "outputs": [],
   "source": [
    "\n"
   ],
   "metadata": {
    "collapsed": false,
    "pycharm": {
     "name": "#%%\n"
    }
   }
  },
  {
   "cell_type": "code",
   "execution_count": null,
   "outputs": [],
   "source": [
    "\n"
   ],
   "metadata": {
    "collapsed": false,
    "pycharm": {
     "name": "#%%\n"
    }
   }
  },
  {
   "cell_type": "code",
   "execution_count": null,
   "outputs": [],
   "source": [
    "\n"
   ],
   "metadata": {
    "collapsed": false,
    "pycharm": {
     "name": "#%%\n"
    }
   }
  },
  {
   "cell_type": "code",
   "execution_count": null,
   "outputs": [],
   "source": [
    "\n"
   ],
   "metadata": {
    "collapsed": false,
    "pycharm": {
     "name": "#%%\n"
    }
   }
  }
 ],
 "metadata": {
  "file_extension": ".py",
  "kernelspec": {
   "display_name": "Python 3.7.6 64-bit ('django-clite': pipenv)",
   "language": "python",
   "name": "python37664bitdjangoclitepipenvffd73afb54ae4cb6b9b8abe669a2360d"
  },
  "language_info": {
   "codemirror_mode": {
    "name": "ipython",
    "version": 3
   },
   "file_extension": ".py",
   "mimetype": "text/x-python",
   "name": "python",
   "nbconvert_exporter": "python",
   "pygments_lexer": "ipython3",
   "version": "3.7.7"
  },
  "mimetype": "text/x-python",
  "name": "python",
  "npconvert_exporter": "python",
  "pycharm": {
   "stem_cell": {
    "cell_type": "raw",
    "source": [],
    "metadata": {
     "collapsed": false
    }
   }
  },
  "pygments_lexer": "ipython3",
  "version": 3
 },
 "nbformat": 4,
 "nbformat_minor": 2
}