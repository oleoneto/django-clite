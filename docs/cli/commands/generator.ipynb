{
 "nbformat": 4,
 "nbformat_minor": 2,
 "metadata": {
  "language_info": {
   "name": "python",
   "codemirror_mode": {
    "name": "ipython",
    "version": 3
   },
   "version": "3.7.6-final"
  },
  "orig_nbformat": 2,
  "file_extension": ".py",
  "mimetype": "text/x-python",
  "name": "python",
  "npconvert_exporter": "python",
  "pygments_lexer": "ipython3",
  "version": 3,
  "kernelspec": {
   "name": "python37664bitdjangoclitepipenvffd73afb54ae4cb6b9b8abe669a2360d",
   "display_name": "Python 3.7.6 64-bit ('django-clite': pipenv)"
  }
 },
 "cells": [
  {
   "cell_type": "markdown",
   "execution_count": null,
   "metadata": {},
   "outputs": [],
   "source": [
    "# Generator 🗂\n",
    "### The generator is accessible through the `generate` command (abbreviated `g`)."
   ]
  },
  {
   "cell_type": "code",
   "execution_count": 2,
   "metadata": {},
   "outputs": [
    {
     "name": "stdout",
     "output_type": "stream",
     "text": "Usage: D generate [OPTIONS] COMMAND [ARGS]...\n\n  Adds models, routes, and other resources\n\nOptions:\n  --dry      Display output without creating files.\n  --force    Override any conflicting files.\n  --verbose  Run in verbose mode.\n  --help     Show this message and exit.\n\nCommands:\n  admin       Generates an admin model within the admin package.\n  fixture     Generates model fixtures.\n  form        Generates a model form within the forms package.\n  manager     Generates a model manager under the model managers directory.\n  model       Generates a model under the models directory.\n  resource    Generates an app resource.\n  serializer  Generates a serializer for a given model.\n  template    Generates an html template.\n  test        Generates a new TestCase.\n  view        Generates a view function or class.\n  viewset     Generates a viewset for a serializable model.\n"
    }
   ],
   "source": [
    "! D generate --help"
   ]
  },
  {
   "cell_type": "markdown",
   "execution_count": null,
   "metadata": {},
   "outputs": [],
   "source": [
    "## Generating Models"
   ]
  },
  {
   "cell_type": "code",
   "execution_count": 120,
   "metadata": {},
   "outputs": [
    {
     "name": "stdout",
     "output_type": "stream",
     "text": "Usage: D generate model [OPTIONS] NAME [FIELDS]...\n\n  Generates a model under the models directory. One can specify multiple\n  attributes after the model's name, like so:\n\n      D g model track int:number char:title fk:album bool:is_favorite\n\n  This will generate a Track model and add a foreign key of Album. If the\n  model is to be added to admin.site one can optionally opt in by specifying\n  the --register-admin flag.\n\nOptions:\n  -a, --abstract                  Creates an abstract model type.\n  -t, --test-case                 Creates a TestCase for model.\n  -f, --full                      Adds all related resources and TestCase\n  --register-admin                Register model to admin site.\n  --register-inline               Register model to admin site as inline.\n  -m, --is-managed                Add created_by and updated_by fields.\n  -i, --inherits, --extends TEXT  Add model inheritance.\n  --app TEXT                      If base model inherits is in another app.\n  --api                           Only add api-related files.\n  --help                          Show this message and exit.\n"
    }
   ],
   "source": [
    "! D generate model --help"
   ]
  },
  {
   "cell_type": "markdown",
   "execution_count": null,
   "metadata": {},
   "outputs": [],
   "source": [
    "In order to generate a model, specify the type identifier and then the name of the attribute field. Type identifiers are abbreviated to a more generic name that omits the word `Field`. The input here is case-insensitive, but the fields will be properly CamelCased in the corresponding Python file as in the example below:"
   ]
  },
  {
   "cell_type": "code",
   "execution_count": 68,
   "metadata": {},
   "outputs": [
    {
     "name": "stdout",
     "output_type": "stream",
     "text": "\u001b[32mSuccessfully created album.py for Album.\u001b[0m\n"
    }
   ],
   "source": [
    "! D generate model album text:title image:artwork bool:is_compilation"
   ]
  },
  {
   "cell_type": "markdown",
   "execution_count": null,
   "metadata": {},
   "outputs": [],
   "source": [
    "This would add the following model `album.py` under the `models` directory within the music app:"
   ]
  },
  {
   "cell_type": "code",
   "execution_count": 140,
   "metadata": {},
   "outputs": [
    {
     "name": "stdout",
     "output_type": "stream",
     "text": "import uuid\nfrom django.db import models\nfrom django.urls import reverse\nfrom django.template.defaultfilters import slugify\nfrom django.utils.translation import gettext_lazy as _\n\n\nclass Album(models.Model):\n    \n    # Default fields. Used for record-keeping.\n    uuid = models.UUIDField(default=uuid.uuid4, editable=False)\n    slug = models.SlugField(_('slug'), max_length=250, unique=True, editable=False, blank=True)\n    created_at = models.DateTimeField(_('created at'), auto_now_add=True, editable=False)\n    updated_at = models.DateTimeField(_('updated at'), auto_now=True, editable=False)\n\n    class Meta:\n        \n        db_table = 'music_albums'\n        indexes = [models.Index(fields=['created_at'])]\n        ordering = ['-created_at']\n\n    def save(self, *args, **kwargs):\n        # Generate a Medium-like URL slugs:\n        # slugify(f'{__SomeCharField__}{str(self.uuid)[-12:]}')\n        self.slug = slugify(f'{str(self.uuid)[-12:]}')\n        super().save(*args, **kwargs)\n\n    def __str__(self):\n        return f'{self.slug}'\n    \n    def get_absolute_url(self):\n        return reverse('album-detail', kwargs={'slug': self.slug})\n"
    }
   ],
   "source": [
    "! cat models/album.py"
   ]
  },
  {
   "cell_type": "markdown",
   "execution_count": 129,
   "metadata": {},
   "outputs": [
    {
     "name": "stdout",
     "output_type": "stream",
     "text": "total 8\n-rwxr-xr-x   1 lneto  staff  627 Feb  8 23:00 \u001b[31mmanage.py\u001b[m\u001b[m\ndrwxr-xr-x  11 lneto  staff  352 Feb  8 23:00 \u001b[1m\u001b[36mwebsite\u001b[m\u001b[m\n"
    }
   ],
   "source": [
    "Note the presence of the `--inherits` flag. You can specify a base model and the generated model will extend it. For example (from within the music directory):"
   ]
  },
  {
   "cell_type": "code",
   "execution_count": 144,
   "metadata": {},
   "outputs": [
    {
     "name": "stdout",
     "output_type": "stream",
     "text": "\u001b[32mSuccessfully created ep.py for Ep.\u001b[0m\n"
    }
   ],
   "source": [
    "! D generate model ep --inherits album"
   ]
  },
  {
   "cell_type": "code",
   "execution_count": 145,
   "metadata": {},
   "outputs": [
    {
     "name": "stdout",
     "output_type": "stream",
     "text": "import uuid\nfrom django.db import models\nfrom django.urls import reverse\nfrom django.template.defaultfilters import slugify\nfrom django.utils.translation import gettext_lazy as _\nfrom .album import Album\n\n\nclass Ep(Album):\n    \n    # Default fields. Used for record-keeping.\n    uuid = models.UUIDField(default=uuid.uuid4, editable=False)\n    slug = models.SlugField(_('slug'), max_length=250, unique=True, editable=False, blank=True)\n    created_at = models.DateTimeField(_('created at'), auto_now_add=True, editable=False)\n    updated_at = models.DateTimeField(_('updated at'), auto_now=True, editable=False)\n\n    class Meta:\n        \n        db_table = 'music_eps'\n        indexes = [models.Index(fields=['created_at'])]\n        ordering = ['-created_at']\n\n    def save(self, *args, **kwargs):\n        # Generate a Medium-like URL slugs:\n        # slugify(f'{__SomeCharField__}{str(self.uuid)[-12:]}')\n        self.slug = slugify(f'{str(self.uuid)[-12:]}')\n\n\n    def __str__(self):\n        return f'{self.slug}'\n    \n    def get_absolute_url(self):\n        return reverse('ep-detail', kwargs={'slug': self.slug})\n"
    }
   ],
   "source": [
    "! cat models/ep.py"
   ]
  },
  {
   "cell_type": "markdown",
   "execution_count": null,
   "metadata": {},
   "outputs": [],
   "source": [
    "**Defaults**\n",
    "\n",
    "As one can see, `class Meta` and `_str_` are added to a model by default along with `uuid`, `slug`, `created_at` and `updated_at` fields.\n",
    "The `db_table` name is inferred from the name of the app and the current model while the ordering attribute is defined based on the default `created_at` field."
   ]
  },
  {
   "cell_type": "markdown",
   "execution_count": null,
   "metadata": {},
   "outputs": [],
   "source": [
    "**Relationships**\n",
    "\n",
    "If a relationship identifier is passed, the attribute name will be used as the name of the model it relates to.\n",
    "Specifying a relationship also checks the current app scope for the specified related model. If such model does not exist in scope, the CLI will prompt you to create the missing model. How to invoke the command:"
   ]
  },
  {
   "cell_type": "code",
   "execution_count": 156,
   "metadata": {},
   "outputs": [
    {
     "name": "stdout",
     "output_type": "stream",
     "text": "Filename: __init__.py\nFilepath: /Users/lneto/Open-source/django-clite/docs/website/website/music/models/\n\n---- Begin content ----\nfrom .track import Track\n---- End content ----\n\n\nFilename: track.py\nFilepath: /Users/lneto/Open-source/django-clite/docs/website/website/music/models/\n\n---- Begin content ----\nimport uuid\nfrom django.db import models\nfrom django.urls import reverse\nfrom django.template.defaultfilters import slugify\nfrom django.utils.translation import gettext_lazy as _\n\n\nclass Track(models.Model):\n    \n    # Default fields. Used for record-keeping.\n    uuid = models.UUIDField(default=uuid.uuid4, editable=False)\n    slug = models.SlugField(_('slug'), max_length=250, unique=True, editable=False, blank=True)\n    created_at = models.DateTimeField(_('created at'), auto_now_add=True, editable=False)\n    updated_at = models.DateTimeField(_('updated at'), auto_now=True, editable=False)\n\n    class Meta:\n        \n        db_table = 'music_tracks'\n        indexes = [models.Index(fields=['created_at'])]\n        ordering = ['-created_at']\n\n    def save(self, *args, **kwargs):\n        # Generate a Medium-like URL slugs:\n        # slugify(f'{__SomeCharField__}{str(self.uuid)[-12:]}')\n        self.slug = slugify(f'{str(self.uuid)[-12:]}')\n        super().save(*args, **kwargs)\n\n    def __str__(self):\n        return f'{self.slug}'\n    \n    def get_absolute_url(self):\n        return reverse('track-detail', kwargs={'slug': self.slug})\n---- End content ----\n\n\n\u001b[32mSuccessfully created track.py for Track.\u001b[0m\n"
    }
   ],
   "source": [
    "! D generate --dry model track char:title"
   ]
  }
 ]
}