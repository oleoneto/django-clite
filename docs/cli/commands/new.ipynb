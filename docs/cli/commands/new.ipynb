{
 "cells": [
  {
   "cell_type": "markdown",
   "metadata": {},
   "source": [
    "# New 🏗\n",
    "### Create Django projects and their respective applications."
   ]
  },
  {
   "cell_type": "code",
   "execution_count": 2,
   "metadata": {},
   "outputs": [
    {
     "name": "stdout",
     "output_type": "stream",
     "text": [
      "Usage: django-clite new [OPTIONS] COMMAND [ARGS]...\n",
      "\n",
      "  Create projects and apps.\n",
      "\n",
      "Options:\n",
      "  --help  Show this message and exit.\n",
      "\n",
      "Commands:\n",
      "  app      Creates new django apps.\n",
      "  project  Creates a new django project.\n"
     ]
    }
   ],
   "source": [
    "! django-clite new --help"
   ]
  },
  {
   "cell_type": "markdown",
   "metadata": {},
   "source": [
    "The `new` command (abbreviated `n`) can be used to start new projects as well as new applications. The command tries to simplify how a project is created as well as the applications contained in it. Here's an example of such simplification:\n",
    "\n",
    "Suppose you want to start a new project and want to create two apps within it:"
   ]
  },
  {
   "cell_type": "markdown",
   "metadata": {},
   "source": [
    "```\n",
    "django-admin startproject website && \\\n",
    "cd website/website/ && \\\n",
    "django-admin startapp blog && \\\n",
    "django-admin startapp music\n",
    "```"
   ]
  },
  {
   "cell_type": "markdown",
   "metadata": {},
   "source": [
    "The equivalent command in the `django-clite` is:"
   ]
  },
  {
   "cell_type": "code",
   "execution_count": null,
   "metadata": {},
   "outputs": [],
   "source": [
    "! django-clite new project website blog music"
   ]
  },
  {
   "cell_type": "markdown",
   "metadata": {},
   "source": [
    "Specifying `apps` when creating a project is optional, but you're likely to need to create one inside of your project directory, so the CLI can handle the creation of all of your apps if you pass them as arguments after your project name."
   ]
  },
  {
   "cell_type": "markdown",
   "metadata": {},
   "source": [
    "## Creating new projects\n",
    "To create a new project, simply run `django-clite new project project_name`. Run `django-clite new project --help` to see which options this command supports."
   ]
  },
  {
   "cell_type": "markdown",
   "metadata": {},
   "source": [
    "### Project structure\n",
    "This CLI makes some assumptions about the structure of your Django project.\n",
    "\n",
    "1. It assumes that your apps are one level below the root of your project directory, one level below where `manage.py` is.\n",
    "1. It assumes that your app resources are grouped together by type in packages.\n",
    "3. Each class representing a `model`, `serializer`, `viewset`, or form is located in its own Python module.\n",
    "This is done in order to aid the CLI with the creation and deletion of files\n",
    "in the project as we'll see under the [`generate`](#generate) and [`destroy`](#destroy) commands."
   ]
  },
  {
   "cell_type": "markdown",
   "metadata": {},
   "source": [
    "## Creating apps"
   ]
  },
  {
   "cell_type": "code",
   "execution_count": 7,
   "metadata": {},
   "outputs": [
    {
     "name": "stdout",
     "output_type": "stream",
     "text": [
      "Usage: django-clite new apps [OPTIONS] [NAMES]...\n",
      "\n",
      "  Creates new django apps.\n",
      "\n",
      "  This is similar to using `django-admin startapp app_name` but adds more\n",
      "  structure to your app by creating packages for forms, models, serializers,\n",
      "  tests, templates, views, and viewsets.\n",
      "\n",
      "  The command can accept multiple apps as arguments. Like so:\n",
      "\n",
      "      django-clite new apps shop blog forum\n",
      "\n",
      "  The command above will create all 4 apps two levels within your project's\n",
      "  directory, i.e. myproject/myproject. The CLI tries to identify where the\n",
      "  management module for your project is, so it can place your app files in the\n",
      "  correct location. This helps with consistency as the CLI can infer\n",
      "  module/package scopes when performing other automatic configurations.\n",
      "\n",
      "  As part of the CLI convention, each app is assigned its own `urls.py` file,\n",
      "  which can be used to route urls on a per-app basis. Another convention the\n",
      "  CLI adopts is to add a viewsets package to the app's directory by default\n",
      "  (for use with DRF). Within the viewsets directory, a DRF router is\n",
      "  instantiated in `router.py` and its urls added to each app's urlpatterns by\n",
      "  default.\n",
      "\n",
      "Options:\n",
      "  --is-package  Treat as a standalone Python package\n",
      "  --help        Show this message and exit.\n"
     ]
    }
   ],
   "source": [
    "! django-clite new apps --help"
   ]
  }
 ],
 "metadata": {
  "file_extension": ".py",
  "kernelspec": {
   "display_name": ".venv",
   "language": "python",
   "name": "python3"
  },
  "language_info": {
   "codemirror_mode": {
    "name": "ipython",
    "version": 3
   },
   "file_extension": ".py",
   "mimetype": "text/x-python",
   "name": "python",
   "nbconvert_exporter": "python",
   "pygments_lexer": "ipython3",
   "version": "3.11.5"
  },
  "mimetype": "text/x-python",
  "name": "python",
  "npconvert_exporter": "python",
  "orig_nbformat": 2,
  "pygments_lexer": "ipython3",
  "version": 3
 },
 "nbformat": 4,
 "nbformat_minor": 2
}
