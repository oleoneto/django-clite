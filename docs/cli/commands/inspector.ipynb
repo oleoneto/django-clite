{
 "nbformat": 4,
 "nbformat_minor": 2,
 "metadata": {
  "language_info": {
   "name": "python",
   "codemirror_mode": {
    "name": "ipython",
    "version": 3
   },
   "version": "3.7.6-final"
  },
  "orig_nbformat": 2,
  "file_extension": ".py",
  "mimetype": "text/x-python",
  "name": "python",
  "npconvert_exporter": "python",
  "pygments_lexer": "ipython3",
  "version": 3,
  "kernelspec": {
   "name": "python37664bitdjangoclitepipenvffd73afb54ae4cb6b9b8abe669a2360d",
   "display_name": "Python 3.7.6 64-bit ('django-clite': pipenv)"
  }
 },
 "cells": [
  {
   "cell_type": "markdown",
   "execution_count": null,
   "metadata": {},
   "outputs": [],
   "source": [
    "# Inspector 🔬\n",
    "### The inspector is accessible through the `inspector` command (abbreviated `i`)."
   ]
  },
  {
   "cell_type": "code",
   "execution_count": 1,
   "metadata": {},
   "outputs": [
    {
     "name": "stdout",
     "output_type": "stream",
     "text": "Usage: D inspect [OPTIONS] COMMAND [ARGS]...\n\n  Inspect your Django project.\n\nOptions:\n  --help  Show this message and exit.\n\nCommands:\n  apps    Show your project apps.\n  models  Show your project models.\n"
    }
   ],
   "source": [
    "! D inspect --help"
   ]
  },
  {
   "cell_type": "markdown",
   "execution_count": 6,
   "metadata": {},
   "outputs": [],
   "source": [
    "## Apps\n",
    "Inspect apps in your current project"
   ]
  },
  {
   "cell_type": "code",
   "execution_count": 7,
   "metadata": {},
   "outputs": [
    {
     "name": "stdout",
     "output_type": "stream",
     "text": "\u001b[34mblog\u001b[0m\n\u001b[34mmusic\u001b[0m\n"
    }
   ],
   "source": [
    "! D inspect apps"
   ]
  },
  {
   "cell_type": "markdown",
   "execution_count": null,
   "metadata": {},
   "outputs": [],
   "source": [
    "## Models\n",
    "Inspect models across all different apps in your project"
   ]
  },
  {
   "cell_type": "code",
   "execution_count": 8,
   "metadata": {},
   "outputs": [
    {
     "name": "stdout",
     "output_type": "stream",
     "text": "\u001b[34mblog\u001b[0m\n---\u001b[0m\n\u001b[34mmusic\u001b[0m\nalbum.py\u001b[0m\n---\u001b[0m\n"
    }
   ],
   "source": [
    "! D inspect models"
   ]
  },
  {
   "cell_type": "code",
   "execution_count": null,
   "metadata": {},
   "outputs": [],
   "source": []
  }
 ]
}