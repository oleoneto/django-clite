{
 "nbformat": 4,
 "nbformat_minor": 2,
 "metadata": {
  "language_info": {
   "name": "python",
   "codemirror_mode": {
    "name": "ipython",
    "version": 3
   },
   "version": "3.7.6-final"
  },
  "orig_nbformat": 2,
  "file_extension": ".py",
  "mimetype": "text/x-python",
  "name": "python",
  "npconvert_exporter": "python",
  "pygments_lexer": "ipython3",
  "version": 3,
  "kernelspec": {
   "name": "python37664bitdjangoclitepipenvffd73afb54ae4cb6b9b8abe669a2360d",
   "display_name": "Python 3.7.6 64-bit ('django-clite': pipenv)"
  }
 },
 "cells": [
  {
   "cell_type": "markdown",
   "execution_count": null,
   "metadata": {},
   "outputs": [],
   "source": [
    "# Destroyer ❌\n",
    "### The destroyer is accessible through the `destroy` command (abbreviated `d`)."
   ]
  },
  {
   "cell_type": "code",
   "execution_count": 27,
   "metadata": {},
   "outputs": [
    {
     "name": "stdout",
     "output_type": "stream",
     "text": "Usage: D destroy [OPTIONS] COMMAND [ARGS]...\n\n  Removes models, serializers, and other resources\n\nOptions:\n  --dry, --dry-run  Display output without deleting files\n  --force           Override any conflicting files.\n  --verbose         Run in verbose mode.\n  --help            Show this message and exit.\n\nCommands:\n  admin       Destroys an admin model or inline.\n  fixture     Destroys a fixture.\n  form        Destroys a form.\n  manager     Destroys a model manager.\n  model       Destroys a model.\n  resource    Destroys a resource and its related modules.\n  serializer  Destroys a serializer.\n  template    Destroys a template.\n  test        Destroys a TestCase.\n  view        Destroys a view.\n  viewset     Destroys a viewset.\n"
    }
   ],
   "source": [
    "! D destroy --help"
   ]
  },
  {
   "cell_type": "markdown",
   "execution_count": null,
   "metadata": {},
   "outputs": [],
   "source": [
    "## Destroying Models"
   ]
  },
  {
   "cell_type": "code",
   "execution_count": 15,
   "metadata": {},
   "outputs": [
    {
     "name": "stdout",
     "output_type": "stream",
     "text": "Usage: D destroy model [OPTIONS] NAME\n\n  Destroys a model.\n\nOptions:\n  --unregister-admin   Unregister model from the admin site.\n  --unregister-inline  Unregister inline model from the admin site.\n  --test-case          Delete TestCases for model.\n  --full               Delete admin, inline, and TestCase\n  --help               Show this message and exit.\n"
    }
   ],
   "source": [
    "! D destroy model --help"
   ]
  },
  {
   "cell_type": "code",
   "execution_count": 25,
   "metadata": {},
   "outputs": [
    {
     "name": "stdout",
     "output_type": "stream",
     "text": "\u001b[32mSuccessfully deleted ep.py for Ep.\u001b[0m\n"
    }
   ],
   "source": [
    "! D destroy --force model ep"
   ]
  },
  {
   "cell_type": "markdown",
   "execution_count": null,
   "metadata": {},
   "outputs": [],
   "source": [
    "## Destroying Resources"
   ]
  },
  {
   "cell_type": "markdown",
   "execution_count": null,
   "metadata": {},
   "outputs": [],
   "source": [
    "Suppose you have a resource (consisting of admin, model, serializer, view, viewset...), you can delete all related files by running the `destroy resource` command.\n",
    "\n",
    "The following example shows how to destroy a resource called `Article`, which we'll create with the [`generator`](/generator)."
   ]
  },
  {
   "cell_type": "code",
   "execution_count": 5,
   "metadata": {},
   "outputs": [
    {
     "name": "stdout",
     "output_type": "stream",
     "text": "\u001b[32mSuccessfully created article.py for Article.\u001b[0m\n\u001b[32mSuccessfully created article.py for ArticleAdmin.\u001b[0m\n\u001b[32mSuccessfully created article.py for ArticleInline.\u001b[0m\n\u001b[32mSuccessfully created article.py for ArticleTestCase.\u001b[0m\n\u001b[32mSuccessfully created article.py for ArticleSerializer.\u001b[0m\n\u001b[32mSuccessfully created article.py for ArticleTestCase.\u001b[0m\n\u001b[32mSuccessfully created article.py for ArticleViewSet.\u001b[0m\n\u001b[32mSuccessfully created article.py for ArticleForm.\u001b[0m\n\u001b[32mSuccessfully created article.html template.\u001b[0m\n\u001b[32mSuccessfully created article_list.py for ArticleListView..\u001b[0m\n"
    }
   ],
   "source": [
    "! D generate resource article char:title text:content"
   ]
  },
  {
   "cell_type": "markdown",
   "execution_count": null,
   "metadata": {},
   "outputs": [],
   "source": [
    "And here's how you can essentially revert the creating of this resource.\n",
    "\n",
    "#### Note that we're passing the `--force` flag because we're running these examples in a Jupyter notebook and we are sure we want to delete these files. Ideally, you'd want to run the command without this flag so you can be warned about potentially deleting files you may not want deleted."
   ]
  },
  {
   "cell_type": "code",
   "execution_count": 6,
   "metadata": {},
   "outputs": [
    {
     "name": "stdout",
     "output_type": "stream",
     "text": "\u001b[32mSuccessfully deleted article.py for Article.\u001b[0m\n\u001b[32mSuccessfully deleted article.py for ArticleAdmin.\u001b[0m\n\u001b[32mSuccessfully deleted article.py for ArticleInline.\u001b[0m\n\u001b[32mSuccessfully deleted article.py for ArticleTestCase.\u001b[0m\n\u001b[32mSuccessfully deleted article.py for ArticleSerializer.\u001b[0m\n\u001b[32mSuccessfully deleted article.py for ArticleTestCase.\u001b[0m\n\u001b[32mSuccessfully deleted article.py for ArticleViewSet.\u001b[0m\n\u001b[32mSuccessfully deleted article.py for ArticleForm.\u001b[0m\n\u001b[32mSuccessfully deleted article.html template.\u001b[0m\n\u001b[32mSuccessfully deleted article_list.py for ArticleListView..\u001b[0m\n\u001b[31mFile article_detail.py does not exist.\u001b[0m\n\u001b[31mFile article.py does not exist.\u001b[0m\n"
    }
   ],
   "source": [
    "! D destroy --force resource article"
   ]
  },
  {
   "cell_type": "code",
   "execution_count": 4,
   "metadata": {},
   "outputs": [
    {
     "name": "stdout",
     "output_type": "stream",
     "text": "\u001b[32mSuccessfully deleted article.py for Article.\u001b[0m\n\u001b[32mSuccessfully deleted article.py for ArticleAdmin.\u001b[0m\n\u001b[32mSuccessfully deleted article.py for ArticleInline.\u001b[0m\n\u001b[32mSuccessfully deleted article.py for ArticleTestCase.\u001b[0m\n\u001b[32mSuccessfully deleted article.py for ArticleSerializer.\u001b[0m\n\u001b[32mSuccessfully deleted article.py for ArticleTestCase.\u001b[0m\n\u001b[32mSuccessfully deleted article.py for ArticleViewSet.\u001b[0m\n\u001b[32mSuccessfully deleted article.py for ArticleForm.\u001b[0m\n\u001b[32mSuccessfully deleted article.html template.\u001b[0m\n\u001b[32mSuccessfully deleted article_list.py for ArticleListView..\u001b[0m\n\u001b[31mFile article_detail.py does not exist.\u001b[0m\n\u001b[31mFile article.py does not exist.\u001b[0m\n"
    }
   ],
   "source": [
    "! D destroy --force resource article"
   ]
  },
  {
   "cell_type": "markdown",
   "execution_count": null,
   "metadata": {},
   "outputs": [],
   "source": [
    "#### Go ahead and explore how the other commands work and let us know if something does not work as expected 😉!"
   ]
  }
 ]
}