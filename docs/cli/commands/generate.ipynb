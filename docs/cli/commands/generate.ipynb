{
 "cells": [
  {
   "cell_type": "markdown",
   "metadata": {},
   "source": [
    "# Generate 🗂\n",
    "### The generator is accessible through the `generate` command (abbreviated `g`)."
   ]
  },
  {
   "cell_type": "code",
   "execution_count": 13,
   "metadata": {},
   "outputs": [
    {
     "name": "stdout",
     "output_type": "stream",
     "text": [
      "Usage: django-clite generate [OPTIONS] COMMAND [ARGS]...\n",
      "\n",
      "  Create application resources.\n",
      "\n",
      "Options:\n",
      "  -d, --directory PATH  Specify the path to the project's management file.\n",
      "  --project PATH        Project name.\n",
      "  --app PATH            Application name.\n",
      "  --help                Show this message and exit.\n",
      "\n",
      "Commands:\n",
      "  admin         Generate an admin model.\n",
      "  admin-inline  Generate an inline admin model.\n",
      "  command       Generate an application command.\n",
      "  fixture       Generate model fixtures.\n",
      "  form          Generate a form.\n",
      "  manager       Generate a model manager.\n",
      "  model         Generates a model under the models directory.\n",
      "  serializer    Generate a serializer for a given model.\n",
      "  signal        Generate a signal.\n",
      "  tag           Generate a template tag.\n",
      "  template      Generate an html template.\n",
      "  test          Generate TestCases.\n",
      "  validator     Generate a validator.\n",
      "  view          Generate a view function or class.\n",
      "  viewset       Generate a viewset for a serializable model.\n"
     ]
    }
   ],
   "source": [
    "! django-clite generate --help"
   ]
  },
  {
   "cell_type": "markdown",
   "metadata": {},
   "source": [
    "## Generating Models"
   ]
  },
  {
   "cell_type": "code",
   "execution_count": 2,
   "metadata": {},
   "outputs": [
    {
     "name": "stdout",
     "output_type": "stream",
     "text": [
      "Usage: django-clite generate model [OPTIONS] NAME [FIELDS]...\n",
      "\n",
      "Options:\n",
      "  -a, --abstract  Creates an abstract model type\n",
      "  --api           Adds only related api resources\n",
      "  --full          Adds all related resources\n",
      "  --admin         Register admin model\n",
      "  --fixtures      Create model fixture\n",
      "  --form          Create model form\n",
      "  --serializers   Create serializers\n",
      "  --templates     Create templates\n",
      "  --tests         Create tests\n",
      "  --views         Create views\n",
      "  --viewsets      Create viewsets\n",
      "  --skip-import   Do not import in __init__ module\n",
      "  --help          Show this message and exit.\n"
     ]
    }
   ],
   "source": [
    "! django-clite generate model --help"
   ]
  },
  {
   "cell_type": "markdown",
   "metadata": {},
   "source": [
    "In order to generate a model, specify the type identifier and then the name of the attribute field. Type identifiers are abbreviated to a more generic name that omits the word `Field`. The input here is case-insensitive, but the fields will be properly CamelCased in the corresponding Python file as in the example below:"
   ]
  },
  {
   "cell_type": "code",
   "execution_count": null,
   "metadata": {},
   "outputs": [],
   "source": [
    "! django-clite generate model album text:title image:artwork bool:is_compilation"
   ]
  },
  {
   "cell_type": "markdown",
   "metadata": {},
   "source": [
    "This would add the following model `album.py` under the `models` directory within the corresponding app. If the command is run outside of an application, an error will be raised."
   ]
  },
  {
   "cell_type": "markdown",
   "metadata": {},
   "source": [
    "Note the presence of the `--inherits` flag. You can specify a base model and the generated model will extend it. For example (from within the music directory):"
   ]
  },
  {
   "cell_type": "code",
   "execution_count": null,
   "metadata": {},
   "outputs": [],
   "source": [
    "! django-clite generate model ep --inherits album"
   ]
  },
  {
   "cell_type": "markdown",
   "metadata": {},
   "source": [
    "**Defaults**\n",
    "\n",
    "As one can see, `class Meta` and `_str_` are added to a model by default along with `uuid`, `slug`, `created_at` and `updated_at` fields.\n",
    "The `db_table` name is inferred from the name of the app and the current model while the ordering attribute is defined based on the default `created_at` field."
   ]
  },
  {
   "cell_type": "markdown",
   "metadata": {},
   "source": [
    "**Relationships**\n",
    "\n",
    "If a relationship identifier is passed, the attribute name will be used as the name of the model it relates to.\n",
    "Specifying a relationship also checks the current app scope for the specified related model. If such model does not exist in scope, the CLI will prompt you to create the missing model. How to invoke the command:"
   ]
  },
  {
   "cell_type": "code",
   "execution_count": null,
   "metadata": {},
   "outputs": [],
   "source": [
    "! django-clite generate model track char:title"
   ]
  }
 ],
 "metadata": {
  "file_extension": ".py",
  "kernelspec": {
   "display_name": ".venv",
   "language": "python",
   "name": "python3"
  },
  "language_info": {
   "codemirror_mode": {
    "name": "ipython",
    "version": 3
   },
   "file_extension": ".py",
   "mimetype": "text/x-python",
   "name": "python",
   "nbconvert_exporter": "python",
   "pygments_lexer": "ipython3",
   "version": "3.11.5"
  },
  "mimetype": "text/x-python",
  "name": "python",
  "npconvert_exporter": "python",
  "orig_nbformat": 2,
  "pygments_lexer": "ipython3",
  "version": 3
 },
 "nbformat": 4,
 "nbformat_minor": 2
}
