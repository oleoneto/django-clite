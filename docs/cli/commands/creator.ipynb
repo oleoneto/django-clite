{
 "nbformat": 4,
 "nbformat_minor": 2,
 "metadata": {
  "language_info": {
   "name": "python",
   "codemirror_mode": {
    "name": "ipython",
    "version": 3
   },
   "version": "3.7.6-final"
  },
  "orig_nbformat": 2,
  "file_extension": ".py",
  "mimetype": "text/x-python",
  "name": "python",
  "npconvert_exporter": "python",
  "pygments_lexer": "ipython3",
  "version": 3,
  "kernelspec": {
   "name": "python37664bitdjangoclitepipenvffd73afb54ae4cb6b9b8abe669a2360d",
   "display_name": "Python 3.7.6 64-bit ('django-clite': pipenv)"
  }
 },
 "cells": [
  {
   "cell_type": "markdown",
   "execution_count": 29,
   "metadata": {},
   "outputs": [],
   "source": [
    "# Creator 🏗\n",
    "### Create Django projects and their respective applications."
   ]
  },
  {
   "cell_type": "code",
   "execution_count": 1,
   "metadata": {},
   "outputs": [
    {
     "name": "stdout",
     "output_type": "stream",
     "text": "Usage: D create [OPTIONS] COMMAND [ARGS]...\n\n  Creates projects and apps.\n\nOptions:\n  --dry      Display output without creating files.\n  --default  Apply all default configurations.\n  --verbose  Run in verbose mode.\n  --help     Show this message and exit.\n\nCommands:\n  app       Creates new django apps.\n  project   Creates a new django project.\n  settings  Create settings file for project.\n"
    }
   ],
   "source": [
    "! D create --help"
   ]
  },
  {
   "cell_type": "markdown",
   "execution_count": 30,
   "metadata": {},
   "outputs": [
    {
     "ename": "SyntaxError",
     "evalue": "invalid syntax (<ipython-input-30-c86227cc371d>, line 1)",
     "output_type": "error",
     "traceback": [
      "\u001b[0;36m  File \u001b[0;32m\"<ipython-input-30-c86227cc371d>\"\u001b[0;36m, line \u001b[0;32m1\u001b[0m\n\u001b[0;31m    The `create` command (abbreviated `c`) can be used to start new projects as well as new applications. The command tries to simplify how a project is created as well as the applications contained in it. Here's an example of such simplification:\u001b[0m\n\u001b[0m        ^\u001b[0m\n\u001b[0;31mSyntaxError\u001b[0m\u001b[0;31m:\u001b[0m invalid syntax\n"
     ]
    }
   ],
   "source": [
    "The `create` command (abbreviated `c`) can be used to start new projects as well as new applications. The command tries to simplify how a project is created as well as the applications contained in it. Here's an example of such simplification:\n",
    "\n",
    "Suppose you want to start a new project and want to create two apps within it:\n",
    "\n",
    "```\n",
    "\n",
    "```"
   ]
  },
  {
   "cell_type": "markdown",
   "execution_count": 31,
   "metadata": {},
   "outputs": [
    {
     "ename": "SyntaxError",
     "evalue": "invalid syntax (<ipython-input-31-ce4acf7106a8>, line 1)",
     "output_type": "error",
     "traceback": [
      "\u001b[0;36m  File \u001b[0;32m\"<ipython-input-31-ce4acf7106a8>\"\u001b[0;36m, line \u001b[0;32m1\u001b[0m\n\u001b[0;31m    django-admin startproject website && \\\u001b[0m\n\u001b[0m                            ^\u001b[0m\n\u001b[0;31mSyntaxError\u001b[0m\u001b[0;31m:\u001b[0m invalid syntax\n"
     ]
    }
   ],
   "source": [
    "```\n",
    "django-admin startproject website && \\\n",
    "cd website/website/ && \\\n",
    "django-admin startapp blog && \\\n",
    "django-admin startapp music\n",
    "```"
   ]
  },
  {
   "cell_type": "markdown",
   "execution_count": null,
   "metadata": {},
   "outputs": [],
   "source": [
    "The equivalent command in the `django-clite` is:"
   ]
  },
  {
   "cell_type": "code",
   "execution_count": 61,
   "metadata": {},
   "outputs": [
    {
     "name": "stdout",
     "output_type": "stream",
     "text": "Attempting to create project: website\u001b[0m\n\u001b[32mSuccessfully created application: blog\u001b[0m\n\u001b[32mSuccessfully created application: music\u001b[0m\n\u001b[32mSuccessfully initialized git repository\u001b[0m\n"
    }
   ],
   "source": [
    "! D create project website blog music"
   ]
  },
  {
   "cell_type": "markdown",
   "execution_count": null,
   "metadata": {},
   "outputs": [],
   "source": [
    "Specifying `apps` when creating a project is optional, but you're likely to need to create one inside of your project directory, so the CLI can handle the creation of all of your apps if you pass them as arguments after your project name."
   ]
  },
  {
   "cell_type": "markdown",
   "execution_count": 34,
   "metadata": {},
   "outputs": [],
   "source": [
    "## Creating new projects\n",
    "To create a new project, simply run `D create project project_name`. You can also specify the following flags:"
   ]
  },
  {
   "cell_type": "code",
   "execution_count": 62,
   "metadata": {},
   "outputs": [
    {
     "name": "stdout",
     "output_type": "stream",
     "text": "Usage: D create project [OPTIONS] NAME [APPS]...\n\n  Creates a new django project.\n\n  This is similar to using `django-admin startproject project_name` but with\n  some added functionality. The command can handle the creation of apps upon\n  creation of any project, you can simply specify the name of the apps after\n  the project name:\n\n      D new project website app1 app2 app3 ...\n\n  Another added functionality is the ability to setup Docker and Dokku. To\n  do so, use the respective flags --docker and --dokku.\n\n  Also helpful is the ability to initialize your application with a custom\n  authentication model of your choosing. When the --custom-auth flag is\n  specified, CLI will add an `authentication` app to your project along with\n  a subclass of the AbstractUser model which you can extend for your own\n  authentication purposes.\n\nOptions:\n  --docker           Add support for Docker.\n  --dokku            Add support for Dokku.\n  -a, --custom-auth  Add support for custom AUTH_USER_MODEL.\n  --help             Show this message and exit.\n"
    }
   ],
   "source": [
    "! D create project --help"
   ]
  },
  {
   "cell_type": "markdown",
   "execution_count": 37,
   "metadata": {},
   "outputs": [
    {
     "ename": "SyntaxError",
     "evalue": "invalid syntax (<ipython-input-37-bdd8dd6f202e>, line 1)",
     "output_type": "error",
     "traceback": [
      "\u001b[0;36m  File \u001b[0;32m\"<ipython-input-37-bdd8dd6f202e>\"\u001b[0;36m, line \u001b[0;32m1\u001b[0m\n\u001b[0;31m    ```\u001b[0m\n\u001b[0m    ^\u001b[0m\n\u001b[0;31mSyntaxError\u001b[0m\u001b[0;31m:\u001b[0m invalid syntax\n"
     ]
    }
   ],
   "source": [
    "The `--custom-auth` flag is used to provide a simple override of the `AUTH_USER_MODEL`. This creates a User model under authentication.models.user. One can simply specify the override in `settings.py` by setting:\n",
    "\n",
    "```\n",
    "AUTH_USER_MODEL = 'authentication.User'\n",
    "```"
   ]
  },
  {
   "cell_type": "markdown",
   "execution_count": null,
   "metadata": {},
   "outputs": [],
   "source": [
    "The `--docker` flag will create a `Dockerfile` as well as a `docker-compose.yml` file within your project. These are pre-configured to support the following services: web (the Django application itself), a database (postgres), and a caching server (redis)."
   ]
  },
  {
   "cell_type": "markdown",
   "execution_count": null,
   "metadata": {},
   "outputs": [],
   "source": [
    "### Project structure\n",
    "This CLI makes some assumptions about the structure of your Django project.\n",
    "\n",
    "1. It assumes that your apps are one level below the root of your project directory, one level below where `manage.py` is. For example, here's a project generated with defaults:"
   ]
  },
  {
   "cell_type": "code",
   "execution_count": 63,
   "metadata": {},
   "outputs": [
    {
     "name": "stdout",
     "output_type": "stream",
     "text": "\u001b[01;34mwebsite\u001b[00m\n├── \u001b[01;34mwebsite\u001b[00m\n│   ├── \u001b[01;34mblog\u001b[00m\n│   │   ├── \u001b[01;34madmin\u001b[00m\n│   │   ├── \u001b[01;34mfixtures\u001b[00m\n│   │   ├── \u001b[01;34mforms\u001b[00m\n│   │   ├── \u001b[01;34mmiddleware\u001b[00m\n│   │   ├── \u001b[01;34mmigrations\u001b[00m\n│   │   ├── \u001b[01;34mmodels\u001b[00m\n│   │   ├── \u001b[01;34mserializers\u001b[00m\n│   │   ├── \u001b[01;34mtemplates\u001b[00m\n│   │   ├── \u001b[01;34mviews\u001b[00m\n│   │   ├── \u001b[01;34mviewsets\u001b[00m\n│   │   ├── apps.py\n│   │   └── urls.py\n│   ├── \u001b[01;34mmusic\u001b[00m\n│   │   ├── \u001b[01;34madmin\u001b[00m\n│   │   ├── \u001b[01;34mfixtures\u001b[00m\n│   │   ├── \u001b[01;34mforms\u001b[00m\n│   │   ├── \u001b[01;34mmiddleware\u001b[00m\n│   │   ├── \u001b[01;34mmigrations\u001b[00m\n│   │   ├── \u001b[01;34mmodels\u001b[00m\n│   │   ├── \u001b[01;34mserializers\u001b[00m\n│   │   ├── \u001b[01;34mtemplates\u001b[00m\n│   │   ├── \u001b[01;34mviews\u001b[00m\n│   │   ├── \u001b[01;34mviewsets\u001b[00m\n│   │   ├── apps.py\n│   │   └── urls.py\n│   ├── __init__.py\n│   ├── asgi.py\n│   ├── settings.py\n│   ├── settings_override.py\n│   ├── storage.py\n│   ├── urls.py\n│   └── wsgi.py\n└── \u001b[01;32mmanage.py\u001b[00m\n\n23 directories, 12 files\n"
    }
   ],
   "source": [
    "! tree --dirsfirst -L 3 website"
   ]
  },
  {
   "cell_type": "markdown",
   "execution_count": 25,
   "metadata": {},
   "outputs": [
    {
     "ename": "SyntaxError",
     "evalue": "invalid syntax (<ipython-input-25-1b921f479a4a>, line 1)",
     "output_type": "error",
     "traceback": [
      "\u001b[0;36m  File \u001b[0;32m\"<ipython-input-25-1b921f479a4a>\"\u001b[0;36m, line \u001b[0;32m1\u001b[0m\n\u001b[0;31m    2. It assumes that your app resources are grouped together by type in packages. For example:\u001b[0m\n\u001b[0m        ^\u001b[0m\n\u001b[0;31mSyntaxError\u001b[0m\u001b[0;31m:\u001b[0m invalid syntax\n"
     ]
    }
   ],
   "source": [
    "2. It assumes that your app resources are grouped together by type in packages. For example:"
   ]
  },
  {
   "cell_type": "code",
   "execution_count": 64,
   "metadata": {},
   "outputs": [
    {
     "name": "stdout",
     "output_type": "stream",
     "text": "\u001b[01;34mwebsite/website/music\u001b[00m\n├── \u001b[01;34madmin\u001b[00m\n├── \u001b[01;34mfixtures\u001b[00m\n├── \u001b[01;34mforms\u001b[00m\n├── \u001b[01;34mmiddleware\u001b[00m\n├── \u001b[01;34mmigrations\u001b[00m\n├── \u001b[01;34mmodels\u001b[00m\n├── \u001b[01;34mserializers\u001b[00m\n├── \u001b[01;34mtemplates\u001b[00m\n├── \u001b[01;34mviews\u001b[00m\n├── \u001b[01;34mviewsets\u001b[00m\n├── apps.py\n└── urls.py\n\n10 directories, 2 files\n"
    }
   ],
   "source": [
    "! tree --dirsfirst -L 1 website/website/music"
   ]
  },
  {
   "cell_type": "markdown",
   "execution_count": null,
   "metadata": {},
   "outputs": [],
   "source": [
    "3. Each class representing a `model`, `serializer`, `viewset`, or form is located in its own Python module. For example:"
   ]
  },
  {
   "cell_type": "code",
   "execution_count": 105,
   "metadata": {},
   "outputs": [
    {
     "name": "stdout",
     "output_type": "stream",
     "text": "\u001b[01;34mwebsite/website/music/models\u001b[00m\n├── __init__.py\n└── album.py\n\n0 directories, 2 files\n"
    }
   ],
   "source": [
    "! tree -L 1 -P '*.py' --prune website/website/music/models"
   ]
  },
  {
   "cell_type": "markdown",
   "execution_count": null,
   "metadata": {},
   "outputs": [],
   "source": [
    "This is done in order to aid the CLI with the creation and deletion of files\n",
    "in the project as we'll see under the [`generate`](#generator) and [`destroy`](#destroyer) commands."
   ]
  },
  {
   "cell_type": "markdown",
   "execution_count": 3,
   "metadata": {},
   "outputs": [],
   "source": [
    "## Creating apps"
   ]
  },
  {
   "cell_type": "code",
   "execution_count": 4,
   "metadata": {},
   "outputs": [
    {
     "name": "stdout",
     "output_type": "stream",
     "text": "Usage: D create app [OPTIONS] [APPS]...\n\n  Creates new django apps.\n\n  This is similar to using `django-admin startapp app_name` but adds more\n  structure to your app by creating packages for forms, models, serializers,\n  tests, templates, views, and viewsets.\n\n  The command can accept multiple apps as arguments. So,\n\n      D new app shop blog forum\n\n  will work prompt the CLI to create all 4 apps two levels within your\n  project's directory, i.e mysite/mysite. The CLI tries to identify where\n  the management module for your project is so it can place your app files\n  in the correct location. This helps with consistency as the CLI can infer\n  module/package scopes when performing other automatic configurations.\n\n  As part of the CLI convention, each app is assigned its own `urls.py`\n  file, which can be used to route urls on a per app basis. Another\n  convention the CLI adopts is to add a viewsets package to the app's\n  directory by default (for use with DRF). Within the viewsets directory a\n  DRF router is instantiated in `router.py` and its urls added to each app's\n  urlpatterns by default.\n\nOptions:\n  --is-auth                Add User for custom authentication.\n  -p, --project-name TEXT  Specify name of your project.\n  -d, --directory PATH     Specify path to your management.\n  --api                    Add a special api urls module to your app\n                           directory.\n  --help                   Show this message and exit.\n"
    }
   ],
   "source": [
    "! D create app --help"
   ]
  }
 ]
}