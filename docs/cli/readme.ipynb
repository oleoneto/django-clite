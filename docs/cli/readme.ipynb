{
 "nbformat": 4,
 "nbformat_minor": 2,
 "metadata": {
  "language_info": {
   "name": "python",
   "codemirror_mode": {
    "name": "ipython",
    "version": 3
   },
   "version": "3.7.6-final"
  },
  "orig_nbformat": 2,
  "file_extension": ".py",
  "mimetype": "text/x-python",
  "name": "python",
  "npconvert_exporter": "python",
  "pygments_lexer": "ipython3",
  "version": 3,
  "kernelspec": {
   "name": "python37664bitdjangoclitepipenvffd73afb54ae4cb6b9b8abe669a2360d",
   "display_name": "Python 3.7.6 64-bit ('django-clite': pipenv)"
  }
 },
 "cells": [
  {
   "cell_type": "markdown",
   "execution_count": 1,
   "metadata": {},
   "outputs": [],
   "source": [
    "# django-clite\n",
    "### A CLI tool that handles creating and managing Django projects"
   ]
  },
  {
   "cell_type": "markdown",
   "execution_count": null,
   "metadata": {},
   "outputs": [],
   "source": [
    "## Installation\n",
    "Install via [pip](https://pypi.org/project/django-clite)\n",
    "\n",
    "```\n",
    "pip install django-clite\n",
    "```"
   ]
  },
  {
   "cell_type": "markdown",
   "execution_count": null,
   "metadata": {},
   "outputs": [],
   "source": [
    "Install from source:\n",
    "```\n",
    "git clone https://bitbucket.org/oleoneto/django-clite.git\n",
    "cd django-clite\n",
    "pip install .\n",
    "```\n",
    "\n",
    "After installation, the CLI will expose the binary with three names, any of which can be used in place of the another: `D`, `djc`, and `django-clite`. In these documents, we will be using the shorthand, `D`."
   ]
  },
  {
   "cell_type": "markdown",
   "execution_count": null,
   "metadata": {},
   "outputs": [],
   "source": [
    "## Attributions\n",
    "Huge thanks to the folks at [Pallets Projects](https://palletsprojects.com). This CLI tool was built on top of [`click`](https://click.palletsprojects.com) and utilizes [`Jinja`](https://jinja.palletsprojects.com) as the default templating language. Both projects built and maintained by [Pallets](https://palletsprojects.com). \n",
    "\n",
    "As far as natural language parsing, we utilize [`inflection`](https://pypi.org/project/inflection) for, well, text inflection. In short, we use `inflection` in places were we want to suggest or infer a change in the form of a word. Like, for example, if you specify that your model, say `Ox`, has a foreign key to another model, we will automatically populate the `related_name` attribute of your ForeignKeyField to be the pluralized form of the current model's name. In this case, `related_name='oxen'`. We also use `inflection` in many other places which, if we've done our job well, will be imperceptible to most of you. As of the current version of the CLI, this functionality is only supported in English.\n",
    "\n",
    "## Motivation\n",
    "There's a [Medium post](https://medium.com/@oleoneto/what-ive-learned-from-writing-a-command-line-application-for-django-c08807ca6b67?source=friends_link&sk=79ef1b777c4c7411854010e0dda35052) up about why this CLI exists. Feel free to read it for context about why we think there's a need for it. But, in short, Ruby on Rails, the Django-equivalent web framework for the Ruby community is the motivation for why [`django-clite`](https://pypi.org/project/django-clite) exists. Seriously, go read the [post](https://medium.com/@oleoneto/what-ive-learned-from-writing-a-command-line-application-for-django-c08807ca6b67?source=friends_link&sk=79ef1b777c4c7411854010e0dda35052) for context.\n",
    "\n"
   ]
  },
  {
   "cell_type": "markdown",
   "execution_count": null,
   "metadata": {},
   "outputs": [],
   "source": [
    "## Playground\n",
    "Next, we will take a look at how to get things going with the CLI:"
   ]
  },
  {
   "cell_type": "markdown",
   "execution_count": null,
   "metadata": {},
   "outputs": [],
   "source": [
    "# Commands"
   ]
  },
  {
   "cell_type": "code",
   "execution_count": 1,
   "metadata": {},
   "outputs": [
    {
     "name": "stdout",
     "output_type": "stream",
     "text": "Usage: D [OPTIONS] COMMAND [ARGS]...\n\n  django-clite: by Leo Neto\n\n  A CLI to handle the creation and management of your Django projects.\n\n  The CLI has some options about how your project should be structured in\n  order for it to maximize the amount of automatic configuration it can\n  provide you. Since Django itself adheres to configuration over convention,\n  you are free to bypass conventions of the CLI if you so choose.\n\nOptions:\n  --version  Show the version and exit.\n  --help     Show this message and exit.\n\nCommands:\n  create    Creates projects and apps.\n  destroy   Removes models, serializers, and other resources\n  generate  Adds models, routes, and other resources\n  inspect   Inspect your Django project.\n  run       Run maintenance, development, and deployment scripts.\n"
    }
   ],
   "source": [
    "! D --help"
   ]
  },
  {
   "cell_type": "markdown",
   "execution_count": null,
   "metadata": {},
   "outputs": [],
   "source": [
    "Expore the other commands under the [docs/commands](commands) directory."
   ]
  }
 ]
}