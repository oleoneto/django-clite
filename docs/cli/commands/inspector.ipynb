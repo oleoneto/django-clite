{
 "cells": [
  {
   "cell_type": "markdown",
   "metadata": {},
   "source": [
    "# Inspector 🔬\n",
    "### The inspector is accessible through the `inspector` command (abbreviated `i`)."
   ]
  },
  {
   "cell_type": "code",
   "execution_count": 2,
   "metadata": {},
   "outputs": [
    {
     "name": "stdout",
     "output_type": "stream",
     "text": [
      "Usage: D inspect [OPTIONS] COMMAND [ARGS]...\r\n",
      "\r\n",
      "  Inspect your Django project.\r\n",
      "\r\n",
      "Options:\r\n",
      "  --help  Show this message and exit.\r\n",
      "\r\n",
      "Commands:\r\n",
      "  apps    Show your project apps.\r\n",
      "  models  Show your project models.\r\n"
     ]
    }
   ],
   "source": [
    "! D inspect --help"
   ]
  },
  {
   "cell_type": "markdown",
   "metadata": {},
   "source": [
    "## Apps\n",
    "Inspect apps in your current project"
   ]
  },
  {
   "cell_type": "code",
   "execution_count": 38,
   "metadata": {},
   "outputs": [
    {
     "name": "stdout",
     "output_type": "stream",
     "text": [
      "\u001b[1mblog\u001b[0m\r\n",
      "\u001b[1mmusic\u001b[0m\r\n"
     ]
    }
   ],
   "source": [
    "! D inspect apps"
   ]
  },
  {
   "cell_type": "code",
   "execution_count": 33,
   "metadata": {},
   "outputs": [
    {
     "name": "stdout",
     "output_type": "stream",
     "text": [
      "Usage: D inspect apps [OPTIONS]\r\n",
      "\r\n",
      "  Show your project apps.\r\n",
      "\r\n",
      "Options:\r\n",
      "  --paths      Show app paths.\r\n",
      "  --no-stdout  Do not print to stdout.\r\n",
      "  --help       Show this message and exit.\r\n"
     ]
    }
   ],
   "source": [
    "! D inspect apps --help"
   ]
  },
  {
   "cell_type": "markdown",
   "metadata": {},
   "source": [
    "## Models\n",
    "Inspect models across all different apps in your project"
   ]
  },
  {
   "cell_type": "code",
   "execution_count": 40,
   "metadata": {},
   "outputs": [
    {
     "name": "stdout",
     "output_type": "stream",
     "text": [
      "\u001b[1mmusic\u001b[0m\r\n",
      "\u001b[22m    album.py            \u001b[0m\r\n",
      "\u001b[0m\r\n"
     ]
    }
   ],
   "source": [
    "! D inspect models"
   ]
  },
  {
   "cell_type": "code",
   "execution_count": 34,
   "metadata": {},
   "outputs": [
    {
     "name": "stdout",
     "output_type": "stream",
     "text": [
      "Usage: D inspect models [OPTIONS]\r\n",
      "\r\n",
      "  Show your project models.\r\n",
      "\r\n",
      "Options:\r\n",
      "  --paths      Show app paths.\r\n",
      "  --no-stdout  Do not print to stdout.\r\n",
      "  --help       Show this message and exit.\r\n"
     ]
    }
   ],
   "source": [
    "! D inspect models --help"
   ]
  },
  {
   "cell_type": "code",
   "execution_count": null,
   "metadata": {},
   "outputs": [],
   "source": []
  }
 ],
 "metadata": {
  "file_extension": ".py",
  "kernelspec": {
   "display_name": "Python 3.7.6 64-bit ('django-clite': pipenv)",
   "language": "python",
   "name": "python37664bitdjangoclitepipenvffd73afb54ae4cb6b9b8abe669a2360d"
  },
  "language_info": {
   "codemirror_mode": {
    "name": "ipython",
    "version": 3
   },
   "file_extension": ".py",
   "mimetype": "text/x-python",
   "name": "python",
   "nbconvert_exporter": "python",
   "pygments_lexer": "ipython3",
   "version": "3.7.7"
  },
  "mimetype": "text/x-python",
  "name": "python",
  "npconvert_exporter": "python",
  "pygments_lexer": "ipython3",
  "version": 3
 },
 "nbformat": 4,
 "nbformat_minor": 2
}
