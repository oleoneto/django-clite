{
 "nbformat": 4,
 "nbformat_minor": 2,
 "metadata": {
  "language_info": {
   "name": "python",
   "codemirror_mode": {
    "name": "ipython",
    "version": 3
   },
   "version": "3.7.6-final"
  },
  "orig_nbformat": 2,
  "file_extension": ".py",
  "mimetype": "text/x-python",
  "name": "python",
  "npconvert_exporter": "python",
  "pygments_lexer": "ipython3",
  "version": 3,
  "kernelspec": {
   "name": "python37664bitdjangoclitepipenvffd73afb54ae4cb6b9b8abe669a2360d",
   "display_name": "Python 3.7.6 64-bit ('django-clite': pipenv)"
  }
 },
 "cells": [
  {
   "cell_type": "markdown",
   "execution_count": null,
   "metadata": {},
   "outputs": [],
   "source": [
    "# Runner 🏃‍♀️\n",
    "### The runner is accessible through the `run` command (abbreviated `r`)."
   ]
  },
  {
   "cell_type": "code",
   "execution_count": 5,
   "metadata": {},
   "outputs": [
    {
     "name": "stdout",
     "output_type": "stream",
     "text": "Usage: D run [OPTIONS] COMMAND [ARGS]...\n\n  Run maintenance, development, and deployment scripts.\n\nOptions:\n  --help  Show this message and exit.\n\nCommands:\n  docker      Run Docker-related options for your project.\n  export-env  Export environment variables.\n  server      Runs the development server.\n"
    }
   ],
   "source": [
    "! D run --help"
   ]
  },
  {
   "cell_type": "markdown",
   "execution_count": 6,
   "metadata": {},
   "outputs": [],
   "source": [
    "## Exporting Environment Variables"
   ]
  },
  {
   "cell_type": "code",
   "execution_count": 7,
   "metadata": {},
   "outputs": [
    {
     "name": "stdout",
     "output_type": "stream",
     "text": "Usage: D run export-env [OPTIONS]\n\n  Export environment variables. Use this command to export environment\n  variables to an example file or a dokku config file. For example\n  environment file, all values are striped out, only keys are exported.\n\n  In .env-dokku file:\n  dokku config:set --no-restart PROJECT_NAME VARIABLE1=value1\n  dokku config:set --no-restart PROJECT_NAME VARIABLE2=value2\n\n  In .env-example file:\n  VARIABLE1=\n  VARIABLE2=\n\n  The CLI assumes that your environment file lives next to the management\n  file (manage.py). If that is not the case for your project, your can\n  specify the path for the environment file (or just its name if in current\n  directory) by passing the -f, --filepath option:\n\n  D run export-env -f [filepath]\n\nOptions:\n  -f, --filepath PATH  Path to environment file.\n  --no-dokku           Skip dokku export.\n  --no-example         Skip example export.\n  --help               Show this message and exit.\n"
    }
   ],
   "source": [
    "! D run export-env --help"
   ]
  },
  {
   "cell_type": "markdown",
   "execution_count": null,
   "metadata": {},
   "outputs": [],
   "source": [
    "## Docker Runner Options\n",
    "The CLI can create ready-to-use `Dockerfile` and `docker-compose` files which you can use to run your application within [docker](https://docs.docker.com/).\n",
    "\n",
    "You can also `run start` to start your application inside a docker container. Explore the CLI for other options regarding this."
   ]
  },
  {
   "cell_type": "code",
   "execution_count": 4,
   "metadata": {},
   "outputs": [
    {
     "name": "stdout",
     "output_type": "stream",
     "text": "Usage: D run docker [OPTIONS] COMMAND [ARGS]...\n\n  Run Docker-related options for your project.\n\nOptions:\n  --create-config  Create Dockerfile and docker-compose.yml\n  --verbose        Run in verbose mode.\n  --help           Show this message and exit.\n\nCommands:\n  build              Build Docker container for this project.\n  create-compose     Creates a docker-compose file for this project.\n  create-dockerfile  Creates a Dockerfile for this project.\n  start              Start Docker container for this project.\n"
    }
   ],
   "source": [
    "! D run docker --help"
   ]
  }
 ]
}